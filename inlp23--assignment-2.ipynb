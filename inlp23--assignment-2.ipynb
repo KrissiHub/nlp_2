{
 "cells": [
  {
   "cell_type": "markdown",
   "id": "5591f7aa",
   "metadata": {
    "deletable": false,
    "editable": false,
    "nbgrader": {
     "cell_type": "markdown",
     "checksum": "b21b31854d2d60bac33d6a1d6cd5e487",
     "grade": false,
     "grade_id": "cell-e2426ca09eb338dc",
     "locked": true,
     "schema_version": 3,
     "solution": false,
     "task": false
    }
   },
   "source": [
    "## Assignment 2 - NLP using Rules\n",
    "_Solutions have to be submitted by Monday, May 21, 23:59 (UTC+1)._\n",
    "\n",
    "---"
   ]
  },
  {
   "cell_type": "markdown",
   "id": "92c9f279",
   "metadata": {
    "deletable": false,
    "editable": false,
    "nbgrader": {
     "cell_type": "markdown",
     "checksum": "2aecfcf505bd8878113e49de3276ee74",
     "grade": false,
     "grade_id": "cell-e49142b67148d727",
     "locked": true,
     "schema_version": 3,
     "solution": false,
     "task": false
    }
   },
   "source": [
    "### Exercise 1: Finite-State Transducers (1 point)"
   ]
  },
  {
   "cell_type": "markdown",
   "id": "ea27fa34",
   "metadata": {
    "deletable": false,
    "editable": false,
    "nbgrader": {
     "cell_type": "markdown",
     "checksum": "d7ea8ed68beec971c5f09e008333e0ea",
     "grade": false,
     "grade_id": "cell-4e07338bd1c27f06",
     "locked": true,
     "points": 0,
     "schema_version": 3,
     "solution": false,
     "task": true
    }
   },
   "source": [
    "**(a) Consider the task of automatic spelling correction. Do you think a Finite State Transducer (FST) would be needed for this task or would a Finite State Automaton (FSA) suffice? Shortly explain your choice in one sentence.**"
   ]
  },
  {
   "attachments": {},
   "cell_type": "markdown",
   "id": "6647997a",
   "metadata": {
    "deletable": false,
    "nbgrader": {
     "cell_type": "markdown",
     "checksum": "8404a45c544f6ef1e29714e0d3f4a2a5",
     "grade": true,
     "grade_id": "cell-37695585c9f93b0e",
     "locked": false,
     "points": 0.5,
     "schema_version": 3,
     "solution": true,
     "task": false
    }
   },
   "source": [
    "An FST would be needed, because we need to map input and output. If a word is typed wrongly as input, the FST can correct the wrong input word, and swaps the wrong input word with an correct output word. "
   ]
  },
  {
   "cell_type": "markdown",
   "id": "9c289e19",
   "metadata": {
    "deletable": false,
    "editable": false,
    "nbgrader": {
     "cell_type": "markdown",
     "checksum": "d013936cd236a59335d74e4683040a9a",
     "grade": false,
     "grade_id": "cell-67c4c88c180767b4",
     "locked": true,
     "points": 0,
     "schema_version": 3,
     "solution": false,
     "task": true
    }
   },
   "source": [
    "**(b) Can every task that is solvable with an FSA also be solved with an FST? Shortly explain your answer in one sentence.**"
   ]
  },
  {
   "attachments": {},
   "cell_type": "markdown",
   "id": "adce32a6",
   "metadata": {
    "deletable": false,
    "nbgrader": {
     "cell_type": "markdown",
     "checksum": "16b93c6eaf391c18980cd4a6a1b19af0",
     "grade": true,
     "grade_id": "cell-f78b09c1d51e73a9",
     "locked": false,
     "points": 0.5,
     "schema_version": 3,
     "solution": true,
     "task": false
    }
   },
   "source": [
    "Yes, every task that is solvable with an FSA is solvable with an FST, because an FST is an extension of an FSA. FSA can only read on strings, while FSTs can read and write them. So FSTs can read strings, just like an FSA."
   ]
  },
  {
   "cell_type": "markdown",
   "id": "a952fc5f",
   "metadata": {
    "deletable": false,
    "editable": false,
    "nbgrader": {
     "cell_type": "markdown",
     "checksum": "c21076801f77bafde01b7d57e2f95b80",
     "grade": false,
     "grade_id": "cell-f496ecd640984ff1",
     "locked": true,
     "schema_version": 3,
     "solution": false,
     "task": false
    }
   },
   "source": [
    "### Exercise 2: Lexicon-based approaches (2 points)"
   ]
  },
  {
   "cell_type": "markdown",
   "id": "0b8735c0",
   "metadata": {
    "deletable": false,
    "editable": false,
    "nbgrader": {
     "cell_type": "markdown",
     "checksum": "fe8f58bbdca199da2a5af274083ab6a1",
     "grade": false,
     "grade_id": "cell-6c2aabda66e6b1f4",
     "locked": true,
     "points": 0,
     "schema_version": 3,
     "solution": false,
     "task": true
    }
   },
   "source": [
    "**(a) Consider creating a lexicon of companies participating in the New York Stock Exchange. The lexicon should not only list companies, but also contain useful information about each, such as the name of the CEO. From the types of lexicons presented in the lecture part on \"NLP using lexicons\", which one is the best option? Explain shortly.**"
   ]
  },
  {
   "cell_type": "markdown",
   "id": "19654b9d",
   "metadata": {
    "deletable": false,
    "nbgrader": {
     "cell_type": "markdown",
     "checksum": "e120f7957bfa703ec5be4b8e8a0e4456",
     "grade": true,
     "grade_id": "cell-e42a9292be875ce3",
     "locked": false,
     "points": 0.5,
     "schema_version": 3,
     "solution": true,
     "task": false
    }
   },
   "source": [
    "YOUR ANSWER HERE"
   ]
  },
  {
   "cell_type": "markdown",
   "id": "ba8a9d1f",
   "metadata": {
    "deletable": false,
    "editable": false,
    "nbgrader": {
     "cell_type": "markdown",
     "checksum": "4d883c5288555ea4bace45d6f22841f2",
     "grade": false,
     "grade_id": "cell-f80038e5fb3d7d79",
     "locked": true,
     "points": 0,
     "schema_version": 3,
     "solution": false,
     "task": true
    }
   },
   "source": [
    "**(b) Given the following three NLP tasks below, write down if they could be effectively approached with a lexicon-based method. Explain your answers shortly (no point without explanation).**\n",
    "\n",
    "1. **Finding all named entities (disregarding what entity type they have) in a well-formed English text.**\n",
    "2. **Extracting natural language arguments from a corpus of debate speeches.**\n",
    "3. **Finding sentences that contain explicit insults.**"
   ]
  },
  {
   "cell_type": "markdown",
   "id": "6381a7a9",
   "metadata": {
    "deletable": false,
    "nbgrader": {
     "cell_type": "markdown",
     "checksum": "b2a62c1a080854a42196b443086cdaf4",
     "grade": true,
     "grade_id": "cell-b869430672f07529",
     "locked": false,
     "points": 1.5,
     "schema_version": 3,
     "solution": true,
     "task": false
    }
   },
   "source": [
    "YOUR ANSWER HERE"
   ]
  },
  {
   "cell_type": "markdown",
   "id": "90c43f73",
   "metadata": {
    "deletable": false,
    "editable": false,
    "nbgrader": {
     "cell_type": "markdown",
     "checksum": "8e5e5350c893702f4173323fe881d993",
     "grade": false,
     "grade_id": "cell-0d38afdd99100b9c",
     "locked": true,
     "schema_version": 3,
     "solution": false,
     "task": false
    }
   },
   "source": [
    "### Exercise 3: Decision trees (3 points)"
   ]
  },
  {
   "cell_type": "markdown",
   "id": "bff78e04",
   "metadata": {
    "deletable": false,
    "editable": false,
    "nbgrader": {
     "cell_type": "markdown",
     "checksum": "5328fbe4134a1e95b505259bc2573104",
     "grade": false,
     "grade_id": "cell-0ac9616fe689db15",
     "locked": true,
     "schema_version": 3,
     "solution": false,
     "task": false
    }
   },
   "source": [
    "**Tokenization of English texts faces problems similar to those of sentence splitting presented in the lecture. Up to a certain accuracy, however, it can also be approached using a decision tree.**"
   ]
  },
  {
   "cell_type": "markdown",
   "id": "9bc40cf5",
   "metadata": {
    "deletable": false,
    "editable": false,
    "nbgrader": {
     "cell_type": "markdown",
     "checksum": "44bfecf54922a10de70559f7a61b7b34",
     "grade": false,
     "grade_id": "cell-1df28f5008b156fc",
     "locked": true,
     "points": 0,
     "schema_version": 3,
     "solution": false,
     "task": true
    }
   },
   "source": [
    "**(a) Create and draw a graphical representation of a decision tree that is able to tokenize a given English text in a similar manner to the decision tree for sentence splitting presented in the lecture. The decision tree should be able to deal at least with the following cases (in that order):**\n",
    "\n",
    "1. **Split at whitespaces and sentence endings.**\n",
    "2. **Split at a comma, but do not split inside numbers.**\n",
    "3. **Split at hyphens that are not part of a multi-word phrase.**\n",
    "4. **Split at full stops, but not if the dot is part of a number, abbreviation or URL.**\n",
    "\n",
    "**For simplicity, you can expect functions to be available that detect sentence endings, numbers, multi-word phrases, as well as abbreviations and URLs. You might use the notation introduced in the lecture for the sentence splitter for the graphical representation of you decision tree.**\n",
    "\n",
    "_Note: You can include images in the markdown cell below by uploading an image file to the same directory as this notebook and then adding it in markdown via `![alt-text](image-file-name.png)`. You are free to choose between drawing the tree by hand (and then scanning it) or any digital drawing program of your liking. Make sure, however, that all texts and connections are clearly readable. If this is not the case, you will not get any points for this task._"
   ]
  },
  {
   "cell_type": "markdown",
   "id": "fba08357",
   "metadata": {
    "deletable": false,
    "nbgrader": {
     "cell_type": "markdown",
     "checksum": "88d2bb19f673ccfa3c677b3a4bc65bb9",
     "grade": true,
     "grade_id": "cell-04ba952973083ee1",
     "locked": false,
     "points": 2,
     "schema_version": 3,
     "solution": true,
     "task": false
    }
   },
   "source": [
    "YOUR ANSWER HERE"
   ]
  },
  {
   "cell_type": "markdown",
   "id": "963fc675",
   "metadata": {
    "deletable": false,
    "editable": false,
    "nbgrader": {
     "cell_type": "markdown",
     "checksum": "07c32d8ace7dfa22cd745cb101a6dd81",
     "grade": false,
     "grade_id": "cell-9e4e9f12ad331a98",
     "locked": true,
     "points": 0,
     "schema_version": 3,
     "solution": false,
     "task": true
    }
   },
   "source": [
    "**(b) What potential problems do you see with tackeling tokenization using decision trees? Shortly explain your answer and come up with at least two edge-cases that are not covered by the rules stated in (a) for the problem of tokenization of a well-formed English text.**"
   ]
  },
  {
   "cell_type": "markdown",
   "id": "5f651e9b",
   "metadata": {
    "deletable": false,
    "nbgrader": {
     "cell_type": "markdown",
     "checksum": "0095101bafa0030e9a2199cde26d4f29",
     "grade": true,
     "grade_id": "cell-5276b0a65ca3ee47",
     "locked": false,
     "points": 1,
     "schema_version": 3,
     "solution": true,
     "task": false
    }
   },
   "source": [
    "YOUR ANSWER HERE"
   ]
  },
  {
   "cell_type": "markdown",
   "id": "c8a1f72d",
   "metadata": {
    "deletable": false,
    "editable": false,
    "nbgrader": {
     "cell_type": "markdown",
     "checksum": "12d918e1db16aecfcefa6d9ba0fa49de",
     "grade": false,
     "grade_id": "cell-4b2e16c704ad0c24",
     "locked": true,
     "schema_version": 3,
     "solution": false,
     "task": false
    }
   },
   "source": [
    "### Exercise 4: Text stemming (1 point)"
   ]
  },
  {
   "cell_type": "markdown",
   "id": "e125e992",
   "metadata": {
    "deletable": false,
    "editable": false,
    "nbgrader": {
     "cell_type": "markdown",
     "checksum": "41a0940e3407b23d622d27d2aba1f567",
     "grade": false,
     "grade_id": "cell-fc5f36588c5aee48",
     "locked": true,
     "points": 0,
     "schema_version": 3,
     "solution": false,
     "task": true
    }
   },
   "source": [
    "**Similar to the Porter Stemmer, the Krovetz Stemmer uses a set of rules to determine the stem of a word. In addition, it introduces the use of lexicons to cover most of the well-known edge cases, in which teh Porter Stemmer produces bad results.**\n",
    "\n",
    "**The general process is as follows:**\n",
    "\n",
    "1. **If input token present in lexicon, replace with stem.**\n",
    "2. **If not present, check token for choppable inflection suffixes.**\n",
    "3. **If chopped token present in lexicon, replace with stem.**\n",
    "4. **If still not present, try to add different suffixes.**\n",
    "\n",
    "**What do you think might be advantages and disadvantages of this approach when compared to the Porter Stemmer? Name at least one each and shortly explain your answer.**"
   ]
  },
  {
   "cell_type": "markdown",
   "id": "a28a07b0",
   "metadata": {
    "deletable": false,
    "nbgrader": {
     "cell_type": "markdown",
     "checksum": "db824b4191badfda9fd9b85292ec1504",
     "grade": true,
     "grade_id": "cell-5628d4c294e127ae",
     "locked": false,
     "points": 1,
     "schema_version": 3,
     "solution": true,
     "task": false
    }
   },
   "source": [
    "YOUR ANSWER HERE"
   ]
  },
  {
   "cell_type": "markdown",
   "id": "3655d4af",
   "metadata": {
    "deletable": false,
    "editable": false,
    "nbgrader": {
     "cell_type": "markdown",
     "checksum": "cd348794c4a786438135a35c2660f9fc",
     "grade": false,
     "grade_id": "cell-980a977be2152563",
     "locked": true,
     "schema_version": 3,
     "solution": false,
     "task": false
    }
   },
   "source": [
    "### Exercise 5: Template-based generation (3 points)"
   ]
  },
  {
   "cell_type": "markdown",
   "id": "a106a392",
   "metadata": {
    "deletable": false,
    "editable": false,
    "nbgrader": {
     "cell_type": "markdown",
     "checksum": "13de26f11f696686c7a1612fe63630ab",
     "grade": false,
     "grade_id": "cell-983f5541371b1922",
     "locked": true,
     "points": 0,
     "schema_version": 3,
     "solution": false,
     "task": true
    }
   },
   "source": [
    "**Consider the task of template-based natural language generation in the domain of sports event reporting.**\n",
    "\n",
    "**For a kind of sports of your choice, come up with two template sentences that has to be filled with texts from data. Each template should have at least 3 slots to be filled. For each of those cases, list and explain the following things:**\n",
    "\n",
    "1. **The intended goal of the template and what it should convey.**\n",
    "2. **The data (i.e. the entities, attribute and relations) that would be required to generate the sentence and the knowledge to order the retrieved data in the planning phase.**\n",
    "3. **At least one rule that are in applied in each, the Lexicalization and Referring expression generation step and why it makes sense to apply this rule.**\n",
    "\n",
    "**For each template, also provide an example.**\n",
    "\n",
    "\n",
    "_Note: The data and rules need to be different from those presented in the lecture._"
   ]
  },
  {
   "cell_type": "markdown",
   "id": "928017f2",
   "metadata": {
    "deletable": false,
    "nbgrader": {
     "cell_type": "markdown",
     "checksum": "13eeaf15b25859075e4f528737aa5612",
     "grade": true,
     "grade_id": "cell-6302a4abd6bd1700",
     "locked": false,
     "points": 3,
     "schema_version": 3,
     "solution": true,
     "task": false
    }
   },
   "source": [
    "YOUR ANSWER HERE"
   ]
  },
  {
   "cell_type": "markdown",
   "id": "9a50287f",
   "metadata": {
    "deletable": false,
    "editable": false,
    "nbgrader": {
     "cell_type": "markdown",
     "checksum": "84f1047b6e548a97fc1afbab9f8308d7",
     "grade": false,
     "grade_id": "cell-f764af4cc66a91e2",
     "locked": true,
     "schema_version": 3,
     "solution": false,
     "task": false
    }
   },
   "source": [
    "---"
   ]
  },
  {
   "cell_type": "markdown",
   "id": "5ddb4df8",
   "metadata": {
    "deletable": false,
    "editable": false,
    "nbgrader": {
     "cell_type": "markdown",
     "checksum": "fa25a9135756014e46b9a5a89794ddeb",
     "grade": false,
     "grade_id": "cell-bc8aef85727e1309",
     "locked": true,
     "schema_version": 3,
     "solution": false,
     "task": false
    }
   },
   "source": [
    "### Exercise 6: Programming task 1 (5 points)"
   ]
  },
  {
   "cell_type": "markdown",
   "id": "b7424720",
   "metadata": {
    "deletable": false,
    "editable": false,
    "nbgrader": {
     "cell_type": "markdown",
     "checksum": "0232c035da3e022d25cdea7261959e4b",
     "grade": false,
     "grade_id": "cell-21e9c3416e36eb4a",
     "locked": true,
     "schema_version": 3,
     "solution": false,
     "task": false
    }
   },
   "source": [
    "**In this task you shall implement a rule-based sentence splitter.**\n",
    "\n",
    "**Write a function `my_sentence_splitter` that takes as an input a text of type string, parse the string character by character, and applies a set of rules in order to identify all positions where the text should be split. Then the function should return a list of strings representing the sentences extracted from the text. For examples of possible rules refer to the lecture part on rule-based approaches. You are free to add more rules that increase your performance.**\n",
    "\n",
    "**Shortly describe your appraoch to sentence splitting and your approach in the docstring of the function.**\n",
    "\n",
    "**Your code will be evaluated on a ground-truth sample of texts. The provided function `evaluate_sentence_splitter` will return the accuracy of your sentence splitter on the sample. Try to optimize your rules to get the highest accuracy. The same ground-truth texts would be used to evaluate your code. Part of the credits for this task will depend on the achieved performance.**\n",
    "\n",
    "_Note: An empty input should also return an empty list._\n",
    "\n",
    "_Note: The accuracy is computed as the ratio of the correct sentences your approach produces to the total number of ground-truth sentence._"
   ]
  },
  {
   "cell_type": "code",
   "execution_count": null,
   "id": "02f80626",
   "metadata": {
    "deletable": false,
    "editable": false,
    "nbgrader": {
     "cell_type": "code",
     "checksum": "6f350c043063ea40a50bf6badb8e99b7",
     "grade": false,
     "grade_id": "cell-f87748403f152642",
     "locked": true,
     "schema_version": 3,
     "solution": false,
     "task": false
    }
   },
   "outputs": [],
   "source": [
    "def evaluate_sentence_splitter(sentence_splitter) -> float:\n",
    "    \"\"\"\n",
    "    This function takes as an input a function `sentence_splitter` and returns the\n",
    "    accuracy of this function evaluated against a text sample.\n",
    "\n",
    "    The function `sentence_splitter` should accept a string as a parameter and\n",
    "    return a list of strings.\n",
    "    \"\"\"\n",
    "    # Read data files\n",
    "    with open(\"text_raw.txt\", \"r\", encoding=\"utf-8\") as f:\n",
    "        raw_texts = f.read().split(\"\\n\")\n",
    "    with open(\"text_sentences.txt\", \"r\", encoding=\"utf-8\") as f:\n",
    "        sentences = f.read().split(\"<new_line>\")\n",
    "    processed_texts = list(map(lambda x: x.strip().split(\"\\n\"), sentences))\n",
    "    \n",
    "    scores = []\n",
    "    # Create sentence pairs from raw and processed texts\n",
    "    for raw_text, text_sentences in zip(raw_texts, processed_texts):\n",
    "        # Split text into sentences with provided splitter\n",
    "        pred_sentences = sentence_splitter(raw_text)\n",
    "        \n",
    "        # Test for the amount of intersection between the two sentences\n",
    "        if len(pred_sentences) == 0:\n",
    "            score = 0\n",
    "        else:\n",
    "            score = len(set(pred_sentences).intersection(set(text_sentences)))/len(set(text_sentences))\n",
    "        \n",
    "        scores.append(score)\n",
    "\n",
    "    # Return the accuracy\n",
    "    return round(sum(scores)/len(scores), 3)"
   ]
  },
  {
   "cell_type": "code",
   "execution_count": null,
   "id": "99b49708",
   "metadata": {
    "deletable": false,
    "nbgrader": {
     "cell_type": "code",
     "checksum": "fef62aa94deea5626060b68dd74e1fb5",
     "grade": false,
     "grade_id": "cell-dfc295e9b48904ff",
     "locked": false,
     "schema_version": 3,
     "solution": true,
     "task": false
    }
   },
   "outputs": [],
   "source": [
    "def my_sentence_splitter(text: str) -> list[str]:\n",
    "    \"\"\"Describe implementation details here...\"\"\"\n",
    "    # YOUR CODE HERE\n",
    "    raise NotImplementedError"
   ]
  },
  {
   "cell_type": "code",
   "execution_count": null,
   "id": "532bd074",
   "metadata": {
    "deletable": false,
    "editable": false,
    "nbgrader": {
     "cell_type": "code",
     "checksum": "868d3908dad2aa63c7bdbe1bef00a170",
     "grade": false,
     "grade_id": "cell-ef5dbcdb6a94216f",
     "locked": true,
     "schema_version": 3,
     "solution": false,
     "task": false
    }
   },
   "outputs": [],
   "source": [
    "accuracy = evaluate_sentence_splitter(my_sentence_splitter)\n",
    "print(f\"Accuracy of your sentence splitter is: {accuracy}\")"
   ]
  },
  {
   "cell_type": "code",
   "execution_count": null,
   "id": "8b74025b",
   "metadata": {
    "deletable": false,
    "editable": false,
    "nbgrader": {
     "cell_type": "code",
     "checksum": "da5079ae72bf710dcbe2a57268029aa2",
     "grade": true,
     "grade_id": "cell-d2024eb9eec10d48",
     "locked": true,
     "points": 5,
     "schema_version": 3,
     "solution": false,
     "task": false
    }
   },
   "outputs": [],
   "source": [
    "########## BEGIN OF AUTOMATED TESTS\n",
    "# ----------------------------------------------------\n",
    "# Tests for the `my_sentence_splitter` function\n",
    "texts = [\n",
    "    \"text1 contains two sentences. This is the second sentence.\",\n",
    "    \"text2 contains this only one sentence.\"\n",
    "]\n",
    "texts_sentences = [my_sentence_splitter(text) for text in texts]\n",
    "assert type(texts_sentences) == list\n",
    "assert len(texts_sentences[0]) == 2\n",
    "assert len(texts_sentences[1]) == 1\n",
    "########## END OF AUTOMATED TESTS"
   ]
  },
  {
   "cell_type": "markdown",
   "id": "da3473c5",
   "metadata": {
    "deletable": false,
    "editable": false,
    "nbgrader": {
     "cell_type": "markdown",
     "checksum": "8a9f3d610c1d628729d8a1e07403cde6",
     "grade": false,
     "grade_id": "cell-ac0a95d9a13e52ec",
     "locked": true,
     "schema_version": 3,
     "solution": false,
     "task": false
    }
   },
   "source": [
    "### Exercise 7: Programming task 2 (5 points)"
   ]
  },
  {
   "cell_type": "markdown",
   "id": "9ed2e1ce",
   "metadata": {
    "deletable": false,
    "editable": false,
    "nbgrader": {
     "cell_type": "markdown",
     "checksum": "73d73f30d5378e7aa33c5d882864887a",
     "grade": false,
     "grade_id": "cell-ace22f9366d55bfd",
     "locked": true,
     "schema_version": 3,
     "solution": false,
     "task": false
    }
   },
   "source": [
    "**In this task you shall implement a rule-based morphological analyzer as a Finite-State Transducer (FST) for the task of English Nominal Number Inflection. Use the FST presented in the lecture on rule-based NLP.**"
   ]
  },
  {
   "cell_type": "markdown",
   "id": "35e94885",
   "metadata": {
    "deletable": false,
    "editable": false,
    "nbgrader": {
     "cell_type": "markdown",
     "checksum": "b788f14ad6f315e09cb6f69af4f467f9",
     "grade": false,
     "grade_id": "cell-a55bf3294c6e546b",
     "locked": true,
     "schema_version": 3,
     "solution": false,
     "task": false
    }
   },
   "source": [
    "**(a) Implement the function `nominal_number_inflection` that takes as an input a string and returns the nominal number inflection of it as a list of strings (e.g: `[\"cat\", \"N\", \"Sg\"]`) if it can be parsed using the defined state automata or `None` otherwise. The function should process the string character by character and try to build the inflection version of the noun. For more details on the nominal number inflection, refer to the slides of the lecture part on rules.**\n",
    "\n",
    "**We provide sample lexicons for regular nouns of type 1 and 2, as well as for both singular and plural irregular nouns. Use these lexicons in your code to search for noun matches.**\n",
    "\n",
    "**Use the docstring of the function to shortly describe your implementation approach.**"
   ]
  },
  {
   "cell_type": "code",
   "execution_count": null,
   "id": "944999bc",
   "metadata": {
    "deletable": false,
    "nbgrader": {
     "cell_type": "code",
     "checksum": "0cd1710ff51e93715cdd23c72aee9d3d",
     "grade": false,
     "grade_id": "cell-b03f7f62a4ff316a",
     "locked": false,
     "schema_version": 3,
     "solution": true,
     "task": false
    }
   },
   "outputs": [],
   "source": [
    "def nominal_number_inflection(text: str) -> list[str]:\n",
    "    \"\"\"Describe implementation details here...\"\"\"\n",
    "    # YOUR CODE HERE\n",
    "    raise NotImplementedError"
   ]
  },
  {
   "cell_type": "code",
   "execution_count": null,
   "id": "ee38ef6d",
   "metadata": {
    "deletable": false,
    "editable": false,
    "nbgrader": {
     "cell_type": "code",
     "checksum": "96b0c5d18f3c64f78e3824361617c90c",
     "grade": true,
     "grade_id": "cell-81e7baeb9a8b9ad6",
     "locked": true,
     "points": 4,
     "schema_version": 3,
     "solution": false,
     "task": false
    }
   },
   "outputs": [],
   "source": [
    "########## BEGIN OF AUTOMATED TESTS\n",
    "# ----------------------------------------------------\n",
    "# Tests for the `nominal_number_inflection` function\n",
    "\n",
    "# Regular noun type 1 Lexicon\n",
    "reg_noun_type1 = set([\"cat\", \"dog\", \"head\"])\n",
    "# Regular noun type 1 Lexicon\n",
    "reg_noun_type2 = set([\"bus\", \"hero\"])\n",
    "# Irregular singular noun Lexicon\n",
    "irreg_singular = set([\"mouse\", \"person\", \"leaf\"])\n",
    "# Irregular plural noun Lexicon\n",
    "irreg_plural = {\"people\": \"person\", \"mice\": \"mouse\", \"leaves\": \"leaf\"}\n",
    "\n",
    "nouns = [\"cat\", \"mice\"]\n",
    "noun_inflections = [nominal_number_inflection(noun) for noun in nouns]\n",
    "assert noun_inflections[0] == [\"cat\", \"N\", \"Sg\"]\n",
    "assert noun_inflections[1] == [\"mouse\", \"N\", \"Pl\"]\n",
    "########## END OF AUTOMATED TESTS"
   ]
  },
  {
   "cell_type": "markdown",
   "id": "423e8624",
   "metadata": {
    "deletable": false,
    "editable": false,
    "nbgrader": {
     "cell_type": "markdown",
     "checksum": "114b6d6b10afb0c45c3c66e8149144a0",
     "grade": false,
     "grade_id": "cell-1269e45ccf85b508",
     "locked": true,
     "points": 0,
     "schema_version": 3,
     "solution": false,
     "task": true
    }
   },
   "source": [
    "**(b) What potential problem do you see with matching the incoming string with an FST and lexicon this way? Shortly explain and provide at least one example.**"
   ]
  },
  {
   "cell_type": "markdown",
   "id": "bb775de1",
   "metadata": {
    "deletable": false,
    "nbgrader": {
     "cell_type": "markdown",
     "checksum": "b77f9efc8e361a81cabfa8adba3dfd35",
     "grade": true,
     "grade_id": "cell-98a84595a987ecc7",
     "locked": false,
     "points": 1,
     "schema_version": 3,
     "solution": true,
     "task": false
    }
   },
   "source": [
    "YOUR ANSWER HERE"
   ]
  }
 ],
 "metadata": {
  "kernelspec": {
   "display_name": "Introduction to NLP 2023",
   "language": "python",
   "name": "introduction_to_nlp_2023"
  },
  "language_info": {
   "codemirror_mode": {
    "name": "ipython",
    "version": 3
   },
   "file_extension": ".py",
   "mimetype": "text/x-python",
   "name": "python",
   "nbconvert_exporter": "python",
   "pygments_lexer": "ipython3",
   "version": "3.10.8"
  }
 },
 "nbformat": 4,
 "nbformat_minor": 5
}
